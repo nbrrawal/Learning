{
 "cells": [
  {
   "cell_type": "code",
   "execution_count": 1,
   "metadata": {},
   "outputs": [
    {
     "name": "stderr",
     "output_type": "stream",
     "text": [
      "C:\\ProgramData\\Anaconda3\\lib\\site-packages\\sklearn\\cross_validation.py:41: DeprecationWarning: This module was deprecated in version 0.18 in favor of the model_selection module into which all the refactored classes and functions are moved. Also note that the interface of the new CV iterators are different from that of this module. This module will be removed in 0.20.\n",
      "  \"This module will be removed in 0.20.\", DeprecationWarning)\n"
     ]
    }
   ],
   "source": [
    "import pandas as pd\n",
    "import numpy as np\n",
    "from  sklearn.cross_validation import train_test_split\n",
    "from sklearn.metrics import r2_score\n",
    "from sklearn.preprocessing import LabelEncoder\n",
    "from sklearn.preprocessing import StandardScaler\n",
    "from sklearn import linear_model\n",
    "from sklearn.preprocessing import PolynomialFeatures\n"
   ]
  },
  {
   "cell_type": "code",
   "execution_count": 12,
   "metadata": {
    "scrolled": true
   },
   "outputs": [
    {
     "name": "stdout",
     "output_type": "stream",
     "text": [
      "                  ID    Reputation        Answers       Username  \\\n",
      "count  330045.000000  3.300450e+05  330045.000000  330045.000000   \n",
      "mean   235748.682789  7.773147e+03       3.917672   81442.888803   \n",
      "std    136039.418471  2.706141e+04       3.579515   49215.100730   \n",
      "min         1.000000  0.000000e+00       0.000000       0.000000   \n",
      "25%    117909.000000  2.820000e+02       2.000000   39808.000000   \n",
      "50%    235699.000000  1.236000e+03       3.000000   79010.000000   \n",
      "75%    353620.000000  5.118000e+03       5.000000  122559.000000   \n",
      "max    471493.000000  1.042428e+06      76.000000  175738.000000   \n",
      "\n",
      "              Views        Upvotes  \n",
      "count  3.300450e+05  330045.000000  \n",
      "mean   2.964507e+04     337.505358  \n",
      "std    8.095646e+04    3592.441135  \n",
      "min    9.000000e+00       0.000000  \n",
      "25%    2.594000e+03       8.000000  \n",
      "50%    8.954000e+03      28.000000  \n",
      "75%    2.687000e+04     107.000000  \n",
      "max    5.231058e+06  615278.000000  \n",
      "                  ID    Reputation        Answers       Username  \\\n",
      "count  330032.000000  3.300320e+05  330032.000000  330032.000000   \n",
      "mean   235747.618267  7.772517e+03       3.916623   81442.740325   \n",
      "std    136038.741387  2.706139e+04       3.574375   49215.088400   \n",
      "min         1.000000  0.000000e+00       0.000000       0.000000   \n",
      "25%    117908.250000  2.810000e+02       2.000000   39808.000000   \n",
      "50%    235699.500000  1.235000e+03       3.000000   79008.000000   \n",
      "75%    353618.250000  5.116250e+03       5.000000  122559.000000   \n",
      "max    471493.000000  1.042428e+06      76.000000  175738.000000   \n",
      "\n",
      "              Views        Upvotes  \n",
      "count  3.300320e+05  330032.000000  \n",
      "mean   2.949654e+04     333.493285  \n",
      "std    7.727360e+04    3453.684456  \n",
      "min    9.000000e+00       0.000000  \n",
      "25%    2.593000e+03       8.000000  \n",
      "50%    8.953000e+03      28.000000  \n",
      "75%    2.686900e+04     107.000000  \n",
      "max    2.969255e+06  615278.000000  \n"
     ]
    }
   ],
   "source": [
    "\n",
    "train = pd.read_csv('E:\\\\Dev\\\\AV\\\\train_votes.csv')\n",
    "train.drop(['ID','Username'],axis=1)\n",
    "print(train.describe())\n",
    "train = train.drop(train[train.Views > 3000000].index)\n",
    "print(train.describe())\n",
    "#train = train.drop(train[train.Views > 290000].index)\n"
   ]
  },
  {
   "cell_type": "code",
   "execution_count": 13,
   "metadata": {},
   "outputs": [
    {
     "name": "stderr",
     "output_type": "stream",
     "text": [
      "C:\\ProgramData\\Anaconda3\\lib\\site-packages\\matplotlib\\axes\\_axes.py:6462: UserWarning: The 'normed' kwarg is deprecated, and has been replaced by the 'density' kwarg.\n",
      "  warnings.warn(\"The 'normed' kwarg is deprecated, and has been \"\n"
     ]
    },
    {
     "data": {
      "text/plain": [
       "<matplotlib.axes._subplots.AxesSubplot at 0xb572ac8>"
      ]
     },
     "execution_count": 13,
     "metadata": {},
     "output_type": "execute_result"
    }
   ],
   "source": [
    "import matplotlib.pyplot as plt \n",
    "import seaborn as sns \n",
    "\n",
    "sns.distplot(train.Upvotes)"
   ]
  },
  {
   "cell_type": "code",
   "execution_count": 27,
   "metadata": {},
   "outputs": [
    {
     "ename": "AttributeError",
     "evalue": "'DataFrame' object has no attribute 'values_count'",
     "output_type": "error",
     "traceback": [
      "\u001b[1;31m---------------------------------------------------------------------------\u001b[0m",
      "\u001b[1;31mAttributeError\u001b[0m                            Traceback (most recent call last)",
      "\u001b[1;32m<ipython-input-27-60ec866456b1>\u001b[0m in \u001b[0;36m<module>\u001b[1;34m()\u001b[0m\n\u001b[0;32m      1\u001b[0m \u001b[1;33m\u001b[0m\u001b[0m\n\u001b[1;32m----> 2\u001b[1;33m \u001b[0mtrain\u001b[0m\u001b[1;33m[\u001b[0m\u001b[0mtrain\u001b[0m\u001b[1;33m.\u001b[0m\u001b[0mUpvotes\u001b[0m\u001b[1;33m>\u001b[0m\u001b[1;36m180000\u001b[0m\u001b[1;33m]\u001b[0m\u001b[1;33m.\u001b[0m\u001b[0mvalues_count\u001b[0m\u001b[1;33m(\u001b[0m\u001b[1;33m)\u001b[0m\u001b[1;33m\u001b[0m\u001b[0m\n\u001b[0m",
      "\u001b[1;32mC:\\ProgramData\\Anaconda3\\lib\\site-packages\\pandas\\core\\generic.py\u001b[0m in \u001b[0;36m__getattr__\u001b[1;34m(self, name)\u001b[0m\n\u001b[0;32m   4370\u001b[0m             \u001b[1;32mif\u001b[0m \u001b[0mself\u001b[0m\u001b[1;33m.\u001b[0m\u001b[0m_info_axis\u001b[0m\u001b[1;33m.\u001b[0m\u001b[0m_can_hold_identifiers_and_holds_name\u001b[0m\u001b[1;33m(\u001b[0m\u001b[0mname\u001b[0m\u001b[1;33m)\u001b[0m\u001b[1;33m:\u001b[0m\u001b[1;33m\u001b[0m\u001b[0m\n\u001b[0;32m   4371\u001b[0m                 \u001b[1;32mreturn\u001b[0m \u001b[0mself\u001b[0m\u001b[1;33m[\u001b[0m\u001b[0mname\u001b[0m\u001b[1;33m]\u001b[0m\u001b[1;33m\u001b[0m\u001b[0m\n\u001b[1;32m-> 4372\u001b[1;33m             \u001b[1;32mreturn\u001b[0m \u001b[0mobject\u001b[0m\u001b[1;33m.\u001b[0m\u001b[0m__getattribute__\u001b[0m\u001b[1;33m(\u001b[0m\u001b[0mself\u001b[0m\u001b[1;33m,\u001b[0m \u001b[0mname\u001b[0m\u001b[1;33m)\u001b[0m\u001b[1;33m\u001b[0m\u001b[0m\n\u001b[0m\u001b[0;32m   4373\u001b[0m \u001b[1;33m\u001b[0m\u001b[0m\n\u001b[0;32m   4374\u001b[0m     \u001b[1;32mdef\u001b[0m \u001b[0m__setattr__\u001b[0m\u001b[1;33m(\u001b[0m\u001b[0mself\u001b[0m\u001b[1;33m,\u001b[0m \u001b[0mname\u001b[0m\u001b[1;33m,\u001b[0m \u001b[0mvalue\u001b[0m\u001b[1;33m)\u001b[0m\u001b[1;33m:\u001b[0m\u001b[1;33m\u001b[0m\u001b[0m\n",
      "\u001b[1;31mAttributeError\u001b[0m: 'DataFrame' object has no attribute 'values_count'"
     ]
    }
   ],
   "source": [
    "\n",
    "train[train.Upvotes>180000].values_count()\n"
   ]
  },
  {
   "cell_type": "code",
   "execution_count": 4,
   "metadata": {},
   "outputs": [
    {
     "data": {
      "text/html": [
       "<div>\n",
       "<style scoped>\n",
       "    .dataframe tbody tr th:only-of-type {\n",
       "        vertical-align: middle;\n",
       "    }\n",
       "\n",
       "    .dataframe tbody tr th {\n",
       "        vertical-align: top;\n",
       "    }\n",
       "\n",
       "    .dataframe thead th {\n",
       "        text-align: right;\n",
       "    }\n",
       "</style>\n",
       "<table border=\"1\" class=\"dataframe\">\n",
       "  <thead>\n",
       "    <tr style=\"text-align: right;\">\n",
       "      <th></th>\n",
       "      <th>ID</th>\n",
       "      <th>Reputation</th>\n",
       "      <th>Answers</th>\n",
       "      <th>Username</th>\n",
       "      <th>Views</th>\n",
       "      <th>Upvotes</th>\n",
       "    </tr>\n",
       "  </thead>\n",
       "  <tbody>\n",
       "    <tr>\n",
       "      <th>count</th>\n",
       "      <td>330045.000000</td>\n",
       "      <td>3.300450e+05</td>\n",
       "      <td>330045.000000</td>\n",
       "      <td>330045.000000</td>\n",
       "      <td>3.300450e+05</td>\n",
       "      <td>330045.000000</td>\n",
       "    </tr>\n",
       "    <tr>\n",
       "      <th>mean</th>\n",
       "      <td>235748.682789</td>\n",
       "      <td>7.773147e+03</td>\n",
       "      <td>3.917672</td>\n",
       "      <td>81442.888803</td>\n",
       "      <td>2.964507e+04</td>\n",
       "      <td>337.505358</td>\n",
       "    </tr>\n",
       "    <tr>\n",
       "      <th>std</th>\n",
       "      <td>136039.418471</td>\n",
       "      <td>2.706141e+04</td>\n",
       "      <td>3.579515</td>\n",
       "      <td>49215.100730</td>\n",
       "      <td>8.095646e+04</td>\n",
       "      <td>3592.441135</td>\n",
       "    </tr>\n",
       "    <tr>\n",
       "      <th>min</th>\n",
       "      <td>1.000000</td>\n",
       "      <td>0.000000e+00</td>\n",
       "      <td>0.000000</td>\n",
       "      <td>0.000000</td>\n",
       "      <td>9.000000e+00</td>\n",
       "      <td>0.000000</td>\n",
       "    </tr>\n",
       "    <tr>\n",
       "      <th>25%</th>\n",
       "      <td>117909.000000</td>\n",
       "      <td>2.820000e+02</td>\n",
       "      <td>2.000000</td>\n",
       "      <td>39808.000000</td>\n",
       "      <td>2.594000e+03</td>\n",
       "      <td>8.000000</td>\n",
       "    </tr>\n",
       "    <tr>\n",
       "      <th>50%</th>\n",
       "      <td>235699.000000</td>\n",
       "      <td>1.236000e+03</td>\n",
       "      <td>3.000000</td>\n",
       "      <td>79010.000000</td>\n",
       "      <td>8.954000e+03</td>\n",
       "      <td>28.000000</td>\n",
       "    </tr>\n",
       "    <tr>\n",
       "      <th>75%</th>\n",
       "      <td>353620.000000</td>\n",
       "      <td>5.118000e+03</td>\n",
       "      <td>5.000000</td>\n",
       "      <td>122559.000000</td>\n",
       "      <td>2.687000e+04</td>\n",
       "      <td>107.000000</td>\n",
       "    </tr>\n",
       "    <tr>\n",
       "      <th>max</th>\n",
       "      <td>471493.000000</td>\n",
       "      <td>1.042428e+06</td>\n",
       "      <td>76.000000</td>\n",
       "      <td>175738.000000</td>\n",
       "      <td>5.231058e+06</td>\n",
       "      <td>615278.000000</td>\n",
       "    </tr>\n",
       "  </tbody>\n",
       "</table>\n",
       "</div>"
      ],
      "text/plain": [
       "                  ID    Reputation        Answers       Username  \\\n",
       "count  330045.000000  3.300450e+05  330045.000000  330045.000000   \n",
       "mean   235748.682789  7.773147e+03       3.917672   81442.888803   \n",
       "std    136039.418471  2.706141e+04       3.579515   49215.100730   \n",
       "min         1.000000  0.000000e+00       0.000000       0.000000   \n",
       "25%    117909.000000  2.820000e+02       2.000000   39808.000000   \n",
       "50%    235699.000000  1.236000e+03       3.000000   79010.000000   \n",
       "75%    353620.000000  5.118000e+03       5.000000  122559.000000   \n",
       "max    471493.000000  1.042428e+06      76.000000  175738.000000   \n",
       "\n",
       "              Views        Upvotes  \n",
       "count  3.300450e+05  330045.000000  \n",
       "mean   2.964507e+04     337.505358  \n",
       "std    8.095646e+04    3592.441135  \n",
       "min    9.000000e+00       0.000000  \n",
       "25%    2.594000e+03       8.000000  \n",
       "50%    8.954000e+03      28.000000  \n",
       "75%    2.687000e+04     107.000000  \n",
       "max    5.231058e+06  615278.000000  "
      ]
     },
     "execution_count": 4,
     "metadata": {},
     "output_type": "execute_result"
    }
   ],
   "source": [
    "train.describe()"
   ]
  },
  {
   "cell_type": "code",
   "execution_count": null,
   "metadata": {},
   "outputs": [],
   "source": []
  },
  {
   "cell_type": "code",
   "execution_count": null,
   "metadata": {},
   "outputs": [],
   "source": []
  },
  {
   "cell_type": "code",
   "execution_count": 102,
   "metadata": {},
   "outputs": [
    {
     "data": {
      "text/html": [
       "<div>\n",
       "<style scoped>\n",
       "    .dataframe tbody tr th:only-of-type {\n",
       "        vertical-align: middle;\n",
       "    }\n",
       "\n",
       "    .dataframe tbody tr th {\n",
       "        vertical-align: top;\n",
       "    }\n",
       "\n",
       "    .dataframe thead th {\n",
       "        text-align: right;\n",
       "    }\n",
       "</style>\n",
       "<table border=\"1\" class=\"dataframe\">\n",
       "  <thead>\n",
       "    <tr style=\"text-align: right;\">\n",
       "      <th></th>\n",
       "      <th>ID</th>\n",
       "      <th>Reputation</th>\n",
       "      <th>Answers</th>\n",
       "      <th>Username</th>\n",
       "      <th>Views</th>\n",
       "      <th>Upvotes</th>\n",
       "    </tr>\n",
       "  </thead>\n",
       "  <tbody>\n",
       "    <tr>\n",
       "      <th>count</th>\n",
       "      <td>3671.000000</td>\n",
       "      <td>3671.000000</td>\n",
       "      <td>3671.000000</td>\n",
       "      <td>3671.000000</td>\n",
       "      <td>3.671000e+03</td>\n",
       "      <td>3671.000000</td>\n",
       "    </tr>\n",
       "    <tr>\n",
       "      <th>mean</th>\n",
       "      <td>246617.375102</td>\n",
       "      <td>14797.109779</td>\n",
       "      <td>14.651866</td>\n",
       "      <td>81377.239989</td>\n",
       "      <td>5.552000e+05</td>\n",
       "      <td>9555.785072</td>\n",
       "    </tr>\n",
       "    <tr>\n",
       "      <th>std</th>\n",
       "      <td>134961.940768</td>\n",
       "      <td>33662.065855</td>\n",
       "      <td>9.317223</td>\n",
       "      <td>49113.136756</td>\n",
       "      <td>3.453544e+05</td>\n",
       "      <td>28469.959992</td>\n",
       "    </tr>\n",
       "    <tr>\n",
       "      <th>min</th>\n",
       "      <td>102.000000</td>\n",
       "      <td>0.000000</td>\n",
       "      <td>0.000000</td>\n",
       "      <td>1.000000</td>\n",
       "      <td>3.000580e+05</td>\n",
       "      <td>0.000000</td>\n",
       "    </tr>\n",
       "    <tr>\n",
       "      <th>25%</th>\n",
       "      <td>129745.000000</td>\n",
       "      <td>1940.000000</td>\n",
       "      <td>8.000000</td>\n",
       "      <td>39860.500000</td>\n",
       "      <td>3.489745e+05</td>\n",
       "      <td>834.000000</td>\n",
       "    </tr>\n",
       "    <tr>\n",
       "      <th>50%</th>\n",
       "      <td>251688.000000</td>\n",
       "      <td>5062.000000</td>\n",
       "      <td>12.000000</td>\n",
       "      <td>79241.000000</td>\n",
       "      <td>4.347230e+05</td>\n",
       "      <td>2496.000000</td>\n",
       "    </tr>\n",
       "    <tr>\n",
       "      <th>75%</th>\n",
       "      <td>362972.500000</td>\n",
       "      <td>13996.000000</td>\n",
       "      <td>19.000000</td>\n",
       "      <td>121411.500000</td>\n",
       "      <td>6.142355e+05</td>\n",
       "      <td>7567.500000</td>\n",
       "    </tr>\n",
       "    <tr>\n",
       "      <th>max</th>\n",
       "      <td>471472.000000</td>\n",
       "      <td>518091.000000</td>\n",
       "      <td>76.000000</td>\n",
       "      <td>175690.000000</td>\n",
       "      <td>2.969255e+06</td>\n",
       "      <td>615278.000000</td>\n",
       "    </tr>\n",
       "  </tbody>\n",
       "</table>\n",
       "</div>"
      ],
      "text/plain": [
       "                  ID     Reputation      Answers       Username         Views  \\\n",
       "count    3671.000000    3671.000000  3671.000000    3671.000000  3.671000e+03   \n",
       "mean   246617.375102   14797.109779    14.651866   81377.239989  5.552000e+05   \n",
       "std    134961.940768   33662.065855     9.317223   49113.136756  3.453544e+05   \n",
       "min       102.000000       0.000000     0.000000       1.000000  3.000580e+05   \n",
       "25%    129745.000000    1940.000000     8.000000   39860.500000  3.489745e+05   \n",
       "50%    251688.000000    5062.000000    12.000000   79241.000000  4.347230e+05   \n",
       "75%    362972.500000   13996.000000    19.000000  121411.500000  6.142355e+05   \n",
       "max    471472.000000  518091.000000    76.000000  175690.000000  2.969255e+06   \n",
       "\n",
       "             Upvotes  \n",
       "count    3671.000000  \n",
       "mean     9555.785072  \n",
       "std     28469.959992  \n",
       "min         0.000000  \n",
       "25%       834.000000  \n",
       "50%      2496.000000  \n",
       "75%      7567.500000  \n",
       "max    615278.000000  "
      ]
     },
     "execution_count": 102,
     "metadata": {},
     "output_type": "execute_result"
    }
   ],
   "source": [
    "train[train.Views >300000].describe()"
   ]
  },
  {
   "cell_type": "code",
   "execution_count": 103,
   "metadata": {},
   "outputs": [
    {
     "data": {
      "text/html": [
       "<div>\n",
       "<style scoped>\n",
       "    .dataframe tbody tr th:only-of-type {\n",
       "        vertical-align: middle;\n",
       "    }\n",
       "\n",
       "    .dataframe tbody tr th {\n",
       "        vertical-align: top;\n",
       "    }\n",
       "\n",
       "    .dataframe thead th {\n",
       "        text-align: right;\n",
       "    }\n",
       "</style>\n",
       "<table border=\"1\" class=\"dataframe\">\n",
       "  <thead>\n",
       "    <tr style=\"text-align: right;\">\n",
       "      <th></th>\n",
       "      <th>ID</th>\n",
       "      <th>Tag</th>\n",
       "      <th>Reputation</th>\n",
       "      <th>Answers</th>\n",
       "      <th>Username</th>\n",
       "      <th>Views</th>\n",
       "      <th>Upvotes</th>\n",
       "    </tr>\n",
       "  </thead>\n",
       "  <tbody>\n",
       "  </tbody>\n",
       "</table>\n",
       "</div>"
      ],
      "text/plain": [
       "Empty DataFrame\n",
       "Columns: [ID, Tag, Reputation, Answers, Username, Views, Upvotes]\n",
       "Index: []"
      ]
     },
     "execution_count": 103,
     "metadata": {},
     "output_type": "execute_result"
    }
   ],
   "source": [
    "train[train[\"Views\"]>3000000]"
   ]
  },
  {
   "cell_type": "code",
   "execution_count": 104,
   "metadata": {},
   "outputs": [],
   "source": [
    "labelencoder_X = LabelEncoder()\n",
    "train['Tag'] = labelencoder_X.fit_transform(train['Tag'])\n",
    "train.drop(['ID','Username'], axis=1,inplace =True)\n",
    "target = train['Upvotes']"
   ]
  },
  {
   "cell_type": "code",
   "execution_count": 105,
   "metadata": {},
   "outputs": [],
   "source": [
    "from sklearn.preprocessing import Binarizer\n",
    "bn = Binarizer(threshold=7)\n",
    "pd_watched = bn.transform([train['Answers']])[0]\n",
    "train['pd_watched'] = pd_watched"
   ]
  },
  {
   "cell_type": "code",
   "execution_count": 106,
   "metadata": {},
   "outputs": [],
   "source": [
    "feature_names = [x for x in train.columns if x not in ['Upvotes']]\n",
    "x_train, x_val, y_train, y_val = train_test_split(train[feature_names], target,test_size = 0.22,random_state =205)\n",
    "sc_X = StandardScaler()\n",
    "x_train = sc_X.fit_transform(x_train)\n",
    "x_val = sc_X.transform(x_val)"
   ]
  },
  {
   "cell_type": "code",
   "execution_count": 111,
   "metadata": {},
   "outputs": [],
   "source": [
    "poly_reg = PolynomialFeatures(degree = 4,interaction_only=False, include_bias=True)\n",
    "X_poly = poly_reg.fit_transform(x_train)\n",
    "poly_reg.fit(x_train, y_train)\n",
    "#lin_reg_1 = linear_model.LassoLars(alpha=0.0195,max_iter=350)#0.9030888558344501\n",
    "#lin_reg_1 = linear_model.LassoLars(alpha=0.0490,max_iter=450)#0.9031607340990608\n",
    "#lin_reg_1 = linear_model.LassoLars(alpha=0.0180,max_iter=160)#0.9027068526349653\n",
    "#lin_reg_1 = linear_model.LassoLars(alpha=0.0208,max_iter=160)#0.903391895371656\n",
    "#lin_reg_1 = linear_model.LassoLars(alpha=0.0205,max_iter=152)#0.9033236139262264\n",
    "#lin_reg_1 = linear_model.LassoLars(alpha=0.02075,max_iter=152)#0.9033805906941818\n",
    "#lin_reg_1 = linear_model.LassoLars(alpha=0.02069,max_iter=160)#0.9033669851837212\n",
    "lin_reg_1 = linear_model.LassoLars(alpha=0.0207,max_iter=152)#0.903391895371656\n",
    "#lin_reg_1 = linear_model.LassoLars(alpha=0.0198,max_iter=450)#0.9031607340990608\n",
    "#lin_reg_1 = linear_model.LassoLars(alpha=0.0198,max_iter=450)#0.9031607340990608\n",
    "\n",
    "\n",
    "lin_reg_1.fit(X_poly, y_train)\n",
    "\n",
    "# predicitng \n",
    "pred_val = lin_reg_1.predict(poly_reg.fit_transform(x_val))"
   ]
  },
  {
   "cell_type": "code",
   "execution_count": 112,
   "metadata": {},
   "outputs": [
    {
     "name": "stdout",
     "output_type": "stream",
     "text": [
      "0.9033692557913351\n"
     ]
    }
   ],
   "source": [
    "print(r2_score(y_val, pred_val))\n",
    "# testing\n",
    "\n",
    "test = pd.read_csv('E:\\\\Dev\\\\AV\\\\test_votes.csv')\n",
    "ids = test['ID']\n",
    "test.drop(['ID','Username'], axis=1,inplace =True)\n",
    "#25-March - 0.903437879332785\n",
    "#next 0.9034534322501852\n",
    "#0.9037949838052866 - lb .794 "
   ]
  },
  {
   "cell_type": "code",
   "execution_count": 113,
   "metadata": {},
   "outputs": [],
   "source": [
    "\n",
    "labelencoder_X = LabelEncoder()\n",
    "test['Tag'] = labelencoder_X.fit_transform(test['Tag'])\n",
    "\n",
    "from sklearn.preprocessing import Binarizer\n",
    "bn = Binarizer(threshold=7)\n",
    "pd_watched = bn.transform([test['Answers']])[0]\n",
    "test['pd_watched'] = pd_watched\n",
    "\n",
    "   "
   ]
  },
  {
   "cell_type": "code",
   "execution_count": 114,
   "metadata": {},
   "outputs": [],
   "source": [
    "\n",
    "test = sc_X.fit_transform(test)\n",
    "\n",
    "pred_test = lin_reg_1.predict(poly_reg.fit_transform(test))\n",
    "pred_test=abs(pred_test)\n",
    "\n"
   ]
  },
  {
   "cell_type": "code",
   "execution_count": 115,
   "metadata": {},
   "outputs": [],
   "source": [
    "import datetime\n",
    "\n",
    "submission = pd.DataFrame({'ID': ids,\n",
    "                           'Upvotes':pred_test\n",
    "                           })\n",
    "\n",
    "submission.to_csv(\"submit_\" +str( datetime.date.today())+ \"_nr.csv\",index=False)"
   ]
  },
  {
   "cell_type": "code",
   "execution_count": 30,
   "metadata": {},
   "outputs": [
    {
     "data": {
      "text/plain": [
       "'C:\\\\Users\\\\Narayan'"
      ]
     },
     "execution_count": 30,
     "metadata": {},
     "output_type": "execute_result"
    }
   ],
   "source": [
    "import os\n",
    "cwd = os.getcwd()\n",
    "cwd"
   ]
  },
  {
   "cell_type": "code",
   "execution_count": 12,
   "metadata": {},
   "outputs": [
    {
     "data": {
      "text/plain": [
       "1.5552917400185606e-05"
      ]
     },
     "execution_count": 12,
     "metadata": {},
     "output_type": "execute_result"
    }
   ],
   "source": [
    "0.9034534322501852 - 0.903437879332785 "
   ]
  },
  {
   "cell_type": "code",
   "execution_count": 13,
   "metadata": {},
   "outputs": [],
   "source": [
    "def train_lassolars_model(train_x, train_y, predict_x):\n",
    "    print_title(\"LassoLars Regressor\")\n",
    "    reg = linear_model.LassoLarsCV(\n",
    "        cv=10, n_jobs=3, max_iter=2000, normalize=False)\n",
    "    reg.fit(train_x, train_y)\n",
    "    print(\"alphas and cv_alphas: {0} and {1}\".format(\n",
    "        reg.alphas_.shape, reg.cv_alphas_.shape))\n",
    "    print(\"alphas[%d]: %s\" % (len(reg.cv_alphas_), reg.cv_alphas_))\n",
    "    print(\"mse shape: {0}\".format(reg.cv_mse_path_.shape))\n",
    "    # print(\"mse: %s\" % np.mean(_mse, axis=0))\n",
    "    # print(\"mse: %s\" % np.mean(_mse, axis=1))\n",
    "    # index = np.where(reg.alphas_ == reg.alpha_)\n",
    "    # print(\"itemindex: %s\" % index)\n",
    "    index = np.where(reg.cv_alphas_ == reg.alpha_)\n",
    "    _mse_v = np.mean(reg.cv_mse_path_[index, :])\n",
    "    print(\"mse value: %f\" % _mse_v)\n",
    "\n",
    "    print(\"best alpha: %f\" % reg.alpha_)\n",
    "    best_alpha = reg.alpha_\n",
    "    reg = linear_model.LassoLars(alpha=best_alpha)\n",
    "    reg.fit(train_x, train_y)\n",
    "    n_nonzeros = (reg.coef_ != 0).sum()\n",
    "    print(\"Non-zeros coef: %d\" % n_nonzeros)\n",
    "    predict_y = reg.predict(predict_x)\n",
    "    return {'y': predict_y, \"coef\": reg.coef_} "
   ]
  },
  {
   "cell_type": "code",
   "execution_count": null,
   "metadata": {},
   "outputs": [],
   "source": []
  }
 ],
 "metadata": {
  "kernelspec": {
   "display_name": "Python 3",
   "language": "python",
   "name": "python3"
  },
  "language_info": {
   "codemirror_mode": {
    "name": "ipython",
    "version": 3
   },
   "file_extension": ".py",
   "mimetype": "text/x-python",
   "name": "python",
   "nbconvert_exporter": "python",
   "pygments_lexer": "ipython3",
   "version": "3.6.5"
  }
 },
 "nbformat": 4,
 "nbformat_minor": 2
}

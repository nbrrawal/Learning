{
 "cells": [
  {
   "cell_type": "code",
   "execution_count": 1,
   "metadata": {},
   "outputs": [
    {
     "name": "stderr",
     "output_type": "stream",
     "text": [
      "C:\\ProgramData\\Anaconda3\\lib\\site-packages\\sklearn\\cross_validation.py:41: DeprecationWarning: This module was deprecated in version 0.18 in favor of the model_selection module into which all the refactored classes and functions are moved. Also note that the interface of the new CV iterators are different from that of this module. This module will be removed in 0.20.\n",
      "  \"This module will be removed in 0.20.\", DeprecationWarning)\n"
     ]
    }
   ],
   "source": [
    "import pandas as pd\n",
    "import numpy as np\n",
    "from  sklearn.cross_validation import train_test_split\n",
    "from sklearn.metrics import r2_score\n",
    "from sklearn.preprocessing import LabelEncoder\n",
    "from sklearn.preprocessing import StandardScaler\n",
    "from sklearn import linear_model\n",
    "from sklearn.preprocessing import PolynomialFeatures\n"
   ]
  },
  {
   "cell_type": "code",
   "execution_count": 3,
   "metadata": {},
   "outputs": [],
   "source": [
    "\n",
    "train = pd.read_csv('E:\\\\Dev\\\\AV\\\\train_votes.csv')\n",
    "train = train.drop(train[train.Views > 3000000].index)\n"
   ]
  },
  {
   "cell_type": "code",
   "execution_count": 4,
   "metadata": {},
   "outputs": [],
   "source": [
    "labelencoder_X = LabelEncoder()\n",
    "train['Tag'] = labelencoder_X.fit_transform(train['Tag'])\n",
    "train.drop(['ID','Username'], axis=1,inplace =True)\n",
    "target = train['Upvotes']"
   ]
  },
  {
   "cell_type": "code",
   "execution_count": 5,
   "metadata": {},
   "outputs": [],
   "source": [
    "from sklearn.preprocessing import Binarizer\n",
    "bn = Binarizer(threshold=7)\n",
    "pd_watched = bn.transform([train['Answers']])[0]\n",
    "train['pd_watched'] = pd_watched"
   ]
  },
  {
   "cell_type": "code",
   "execution_count": 6,
   "metadata": {},
   "outputs": [],
   "source": [
    "feature_names = [x for x in train.columns if x not in ['Upvotes']]\n",
    "x_train, x_val, y_train, y_val = train_test_split(train[feature_names], target,test_size = 0.22,random_state =205)\n",
    "sc_X = StandardScaler()\n",
    "x_train = sc_X.fit_transform(x_train)\n",
    "x_val = sc_X.transform(x_val)"
   ]
  },
  {
   "cell_type": "code",
   "execution_count": 92,
   "metadata": {},
   "outputs": [],
   "source": [
    "poly_reg = PolynomialFeatures(degree = 4,interaction_only=False, include_bias=True)\n",
    "X_poly = poly_reg.fit_transform(x_train)\n",
    "poly_reg.fit(x_train, y_train)\n",
    "#lin_reg_1 = linear_model.LassoLars(alpha=0.0195,max_iter=350)#0.9030888558344501\n",
    "#lin_reg_1 = linear_model.LassoLars(alpha=0.0490,max_iter=450)#0.9031607340990608\n",
    "#lin_reg_1 = linear_model.LassoLars(alpha=0.0180,max_iter=160)#0.9027068526349653\n",
    "#lin_reg_1 = linear_model.LassoLars(alpha=0.0208,max_iter=160)#0.903391895371656\n",
    "#lin_reg_1 = linear_model.LassoLars(alpha=0.0205,max_iter=152)#0.9033236139262264\n",
    "#lin_reg_1 = linear_model.LassoLars(alpha=0.02075,max_iter=152)#0.9033805906941818\n",
    "lin_reg_1 = linear_model.LassoLars(alpha=0.02069,max_iter=160)#0.9033669851837212\n",
    "#lin_reg_1 = linear_model.LassoLars(alpha=0.0198,max_iter=450)#0.9031607340990608\n",
    "#lin_reg_1 = linear_model.LassoLars(alpha=0.0198,max_iter=450)#0.9031607340990608\n",
    "\n",
    "\n",
    "lin_reg_1.fit(X_poly, y_train)\n",
    "\n",
    "# predicitng \n",
    "pred_val = lin_reg_1.predict(poly_reg.fit_transform(x_val))"
   ]
  },
  {
   "cell_type": "code",
   "execution_count": 93,
   "metadata": {},
   "outputs": [
    {
     "name": "stdout",
     "output_type": "stream",
     "text": [
      "0.9033669851837212\n"
     ]
    }
   ],
   "source": [
    "print(r2_score(y_val, pred_val))\n",
    "# testing\n",
    "\n",
    "test = pd.read_csv('E:\\\\Dev\\\\AV\\\\test_votes.csv')\n",
    "ids = test['ID']\n",
    "test.drop(['ID','Username'], axis=1,inplace =True)\n",
    "#25-March - 0.903437879332785\n",
    "#next 0.9034534322501852\n",
    "#0.9037949838052866 - lb .794 "
   ]
  },
  {
   "cell_type": "code",
   "execution_count": 77,
   "metadata": {},
   "outputs": [],
   "source": [
    "\n",
    "labelencoder_X = LabelEncoder()\n",
    "test['Tag'] = labelencoder_X.fit_transform(test['Tag'])\n",
    "\n",
    "from sklearn.preprocessing import Binarizer\n",
    "bn = Binarizer(threshold=7)\n",
    "pd_watched = bn.transform([test['Answers']])[0]\n",
    "test['pd_watched'] = pd_watched\n",
    "\n",
    "   "
   ]
  },
  {
   "cell_type": "code",
   "execution_count": 78,
   "metadata": {},
   "outputs": [],
   "source": [
    "\n",
    "test = sc_X.fit_transform(test)\n",
    "\n",
    "pred_test = lin_reg_1.predict(poly_reg.fit_transform(test))\n",
    "pred_test=abs(pred_test)\n",
    "\n"
   ]
  },
  {
   "cell_type": "code",
   "execution_count": 79,
   "metadata": {},
   "outputs": [],
   "source": [
    "import datetime\n",
    "\n",
    "submission = pd.DataFrame({'ID': ids,\n",
    "                           'Upvotes':pred_test\n",
    "                           })\n",
    "\n",
    "submission.to_csv(\"submit_\" +str( datetime.date.today())+ \"_nr.csv\",index=False)"
   ]
  },
  {
   "cell_type": "code",
   "execution_count": 52,
   "metadata": {},
   "outputs": [
    {
     "data": {
      "text/plain": [
       "'C:\\\\Users\\\\Narayan'"
      ]
     },
     "execution_count": 52,
     "metadata": {},
     "output_type": "execute_result"
    }
   ],
   "source": [
    "import os\n",
    "cwd = os.getcwd()\n",
    "cwd"
   ]
  },
  {
   "cell_type": "code",
   "execution_count": 26,
   "metadata": {},
   "outputs": [
    {
     "data": {
      "text/plain": [
       "1.5552917400185606e-05"
      ]
     },
     "execution_count": 26,
     "metadata": {},
     "output_type": "execute_result"
    }
   ],
   "source": [
    "0.9034534322501852 - 0.903437879332785 "
   ]
  },
  {
   "cell_type": "code",
   "execution_count": 38,
   "metadata": {},
   "outputs": [],
   "source": [
    "def train_lassolars_model(train_x, train_y, predict_x):\n",
    "    print_title(\"LassoLars Regressor\")\n",
    "    reg = linear_model.LassoLarsCV(\n",
    "        cv=10, n_jobs=3, max_iter=2000, normalize=False)\n",
    "    reg.fit(train_x, train_y)\n",
    "    print(\"alphas and cv_alphas: {0} and {1}\".format(\n",
    "        reg.alphas_.shape, reg.cv_alphas_.shape))\n",
    "    print(\"alphas[%d]: %s\" % (len(reg.cv_alphas_), reg.cv_alphas_))\n",
    "    print(\"mse shape: {0}\".format(reg.cv_mse_path_.shape))\n",
    "    # print(\"mse: %s\" % np.mean(_mse, axis=0))\n",
    "    # print(\"mse: %s\" % np.mean(_mse, axis=1))\n",
    "    # index = np.where(reg.alphas_ == reg.alpha_)\n",
    "    # print(\"itemindex: %s\" % index)\n",
    "    index = np.where(reg.cv_alphas_ == reg.alpha_)\n",
    "    _mse_v = np.mean(reg.cv_mse_path_[index, :])\n",
    "    print(\"mse value: %f\" % _mse_v)\n",
    "\n",
    "    print(\"best alpha: %f\" % reg.alpha_)\n",
    "    best_alpha = reg.alpha_\n",
    "    reg = linear_model.LassoLars(alpha=best_alpha)\n",
    "    reg.fit(train_x, train_y)\n",
    "    n_nonzeros = (reg.coef_ != 0).sum()\n",
    "    print(\"Non-zeros coef: %d\" % n_nonzeros)\n",
    "    predict_y = reg.predict(predict_x)\n",
    "    return {'y': predict_y, \"coef\": reg.coef_} "
   ]
  },
  {
   "cell_type": "code",
   "execution_count": null,
   "metadata": {},
   "outputs": [],
   "source": []
  }
 ],
 "metadata": {
  "kernelspec": {
   "display_name": "Python 3",
   "language": "python",
   "name": "python3"
  },
  "language_info": {
   "codemirror_mode": {
    "name": "ipython",
    "version": 3
   },
   "file_extension": ".py",
   "mimetype": "text/x-python",
   "name": "python",
   "nbconvert_exporter": "python",
   "pygments_lexer": "ipython3",
   "version": "3.6.5"
  }
 },
 "nbformat": 4,
 "nbformat_minor": 2
}
